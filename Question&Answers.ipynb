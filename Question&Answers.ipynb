{
 "cells": [
  {
   "cell_type": "code",
   "execution_count": 121,
   "id": "bc8f412a",
   "metadata": {},
   "outputs": [],
   "source": [
    "import pandas as pd\n",
    "import numpy as np\n",
    "import string\n",
    "from nltk.tokenize import word_tokenize\n",
    "from nltk.stem import WordNetLemmatizer\n",
    "from nltk.corpus import stopwords\n",
    "from nltk.corpus import wordnet\n",
    "from nltk import pos_tag\n",
    "from sklearn.feature_extraction.text import TfidfVectorizer\n",
    "from sklearn.metrics.pairwise import cosine_similarity"
   ]
  },
  {
   "cell_type": "code",
   "execution_count": 122,
   "id": "0b9552ef",
   "metadata": {},
   "outputs": [],
   "source": [
    "df = pd.read_csv('/Users/thejakamahaulpatha/PycharmProjects/TalkingRobot/Data Sources/Movie Scripts/pulp_fiction_dialogue.csv')"
   ]
  },
  {
   "cell_type": "code",
   "execution_count": 123,
   "id": "3de635d0",
   "metadata": {},
   "outputs": [
    {
     "data": {
      "text/plain": [
       "(1183, 9)"
      ]
     },
     "execution_count": 123,
     "metadata": {},
     "output_type": "execute_result"
    }
   ],
   "source": [
    "df.shape"
   ]
  },
  {
   "cell_type": "code",
   "execution_count": 124,
   "id": "b97024e9",
   "metadata": {},
   "outputs": [
    {
     "data": {
      "text/html": [
       "<div>\n",
       "<style scoped>\n",
       "    .dataframe tbody tr th:only-of-type {\n",
       "        vertical-align: middle;\n",
       "    }\n",
       "\n",
       "    .dataframe tbody tr th {\n",
       "        vertical-align: top;\n",
       "    }\n",
       "\n",
       "    .dataframe thead th {\n",
       "        text-align: right;\n",
       "    }\n",
       "</style>\n",
       "<table border=\"1\" class=\"dataframe\">\n",
       "  <thead>\n",
       "    <tr style=\"text-align: right;\">\n",
       "      <th></th>\n",
       "      <th>Line number</th>\n",
       "      <th>Character (in script)</th>\n",
       "      <th>Character (actual)</th>\n",
       "      <th>Off screen</th>\n",
       "      <th>Voice-over</th>\n",
       "      <th>Place</th>\n",
       "      <th>Time</th>\n",
       "      <th>Line</th>\n",
       "      <th>Word count</th>\n",
       "    </tr>\n",
       "  </thead>\n",
       "  <tbody>\n",
       "    <tr>\n",
       "      <th>0</th>\n",
       "      <td>1</td>\n",
       "      <td>Young man</td>\n",
       "      <td>Pumpkin</td>\n",
       "      <td>False</td>\n",
       "      <td>False</td>\n",
       "      <td>int. coffee shop</td>\n",
       "      <td>morning</td>\n",
       "      <td>No, forget it, it's too risky. I'm through doi...</td>\n",
       "      <td>11</td>\n",
       "    </tr>\n",
       "    <tr>\n",
       "      <th>1</th>\n",
       "      <td>2</td>\n",
       "      <td>Young woman</td>\n",
       "      <td>Honey Bunny</td>\n",
       "      <td>False</td>\n",
       "      <td>False</td>\n",
       "      <td>int. coffee shop</td>\n",
       "      <td>morning</td>\n",
       "      <td>You always say that, the same thing every time...</td>\n",
       "      <td>15</td>\n",
       "    </tr>\n",
       "    <tr>\n",
       "      <th>2</th>\n",
       "      <td>3</td>\n",
       "      <td>Young man</td>\n",
       "      <td>Pumpkin</td>\n",
       "      <td>False</td>\n",
       "      <td>False</td>\n",
       "      <td>int. coffee shop</td>\n",
       "      <td>morning</td>\n",
       "      <td>I know that's what I always say. I'm always ri...</td>\n",
       "      <td>12</td>\n",
       "    </tr>\n",
       "    <tr>\n",
       "      <th>3</th>\n",
       "      <td>4</td>\n",
       "      <td>Young woman</td>\n",
       "      <td>Honey Bunny</td>\n",
       "      <td>False</td>\n",
       "      <td>False</td>\n",
       "      <td>int. coffee shop</td>\n",
       "      <td>morning</td>\n",
       "      <td>– but you forget about it in a day or two -</td>\n",
       "      <td>10</td>\n",
       "    </tr>\n",
       "    <tr>\n",
       "      <th>4</th>\n",
       "      <td>5</td>\n",
       "      <td>Young man</td>\n",
       "      <td>Pumpkin</td>\n",
       "      <td>False</td>\n",
       "      <td>False</td>\n",
       "      <td>int. coffee shop</td>\n",
       "      <td>morning</td>\n",
       "      <td>– yeah, well, the days of me forgittin' are ov...</td>\n",
       "      <td>18</td>\n",
       "    </tr>\n",
       "  </tbody>\n",
       "</table>\n",
       "</div>"
      ],
      "text/plain": [
       "   Line number Character (in script) Character (actual)  Off screen  \\\n",
       "0            1             Young man            Pumpkin       False   \n",
       "1            2           Young woman        Honey Bunny       False   \n",
       "2            3             Young man            Pumpkin       False   \n",
       "3            4           Young woman        Honey Bunny       False   \n",
       "4            5             Young man            Pumpkin       False   \n",
       "\n",
       "   Voice-over             Place     Time  \\\n",
       "0       False  int. coffee shop  morning   \n",
       "1       False  int. coffee shop  morning   \n",
       "2       False  int. coffee shop  morning   \n",
       "3       False  int. coffee shop  morning   \n",
       "4       False  int. coffee shop  morning   \n",
       "\n",
       "                                                Line  Word count  \n",
       "0  No, forget it, it's too risky. I'm through doi...          11  \n",
       "1  You always say that, the same thing every time...          15  \n",
       "2  I know that's what I always say. I'm always ri...          12  \n",
       "3        – but you forget about it in a day or two -          10  \n",
       "4  – yeah, well, the days of me forgittin' are ov...          18  "
      ]
     },
     "execution_count": 124,
     "metadata": {},
     "output_type": "execute_result"
    }
   ],
   "source": [
    "df.head()"
   ]
  },
  {
   "cell_type": "code",
   "execution_count": 125,
   "id": "be19e725",
   "metadata": {},
   "outputs": [],
   "source": [
    "#Getting the required column\n",
    "df1 = df[[\"Line\"]]"
   ]
  },
  {
   "cell_type": "code",
   "execution_count": 126,
   "id": "2daa3f25",
   "metadata": {},
   "outputs": [
    {
     "data": {
      "text/html": [
       "<div>\n",
       "<style scoped>\n",
       "    .dataframe tbody tr th:only-of-type {\n",
       "        vertical-align: middle;\n",
       "    }\n",
       "\n",
       "    .dataframe tbody tr th {\n",
       "        vertical-align: top;\n",
       "    }\n",
       "\n",
       "    .dataframe thead th {\n",
       "        text-align: right;\n",
       "    }\n",
       "</style>\n",
       "<table border=\"1\" class=\"dataframe\">\n",
       "  <thead>\n",
       "    <tr style=\"text-align: right;\">\n",
       "      <th></th>\n",
       "      <th>Line</th>\n",
       "    </tr>\n",
       "  </thead>\n",
       "  <tbody>\n",
       "    <tr>\n",
       "      <th>0</th>\n",
       "      <td>No, forget it, it's too risky. I'm through doi...</td>\n",
       "    </tr>\n",
       "    <tr>\n",
       "      <th>1</th>\n",
       "      <td>You always say that, the same thing every time...</td>\n",
       "    </tr>\n",
       "    <tr>\n",
       "      <th>2</th>\n",
       "      <td>I know that's what I always say. I'm always ri...</td>\n",
       "    </tr>\n",
       "    <tr>\n",
       "      <th>3</th>\n",
       "      <td>– but you forget about it in a day or two -</td>\n",
       "    </tr>\n",
       "    <tr>\n",
       "      <th>4</th>\n",
       "      <td>– yeah, well, the days of me forgittin' are ov...</td>\n",
       "    </tr>\n",
       "  </tbody>\n",
       "</table>\n",
       "</div>"
      ],
      "text/plain": [
       "                                                Line\n",
       "0  No, forget it, it's too risky. I'm through doi...\n",
       "1  You always say that, the same thing every time...\n",
       "2  I know that's what I always say. I'm always ri...\n",
       "3        – but you forget about it in a day or two -\n",
       "4  – yeah, well, the days of me forgittin' are ov..."
      ]
     },
     "execution_count": 126,
     "metadata": {},
     "output_type": "execute_result"
    }
   ],
   "source": [
    "df1.head()"
   ]
  },
  {
   "cell_type": "code",
   "execution_count": 127,
   "id": "304d4b75",
   "metadata": {},
   "outputs": [],
   "source": [
    "#Iterating through the dataframe to create 2 lists including Questions and Answers. Isolate Questions by identifying\n",
    "# - Strings with '?' . \n",
    "myQunList = []\n",
    "myAnsList =[]\n",
    "\n",
    "i = 0\n",
    "a,b = 0,0\n",
    "for i in df1.index:\n",
    "    str1 = df1['Line'][i]\n",
    "    if str1.find(\"?\")!=-1:\n",
    "        myQunList.append(df1['Line'][i])\n",
    "        myAnsList.append(df1['Line'][i+1])\n",
    "\n"
   ]
  },
  {
   "cell_type": "code",
   "execution_count": 128,
   "id": "3731f11a",
   "metadata": {},
   "outputs": [],
   "source": [
    "df_pulp_fiction = pd.DataFrame(\n",
    "    {'Question': myQunList,\n",
    "     'Answer': myAnsList,\n",
    "    })"
   ]
  },
  {
   "cell_type": "code",
   "execution_count": 129,
   "id": "9b6a938b",
   "metadata": {},
   "outputs": [
    {
     "name": "stdout",
     "output_type": "stream",
     "text": [
      "['When you go on like this, you know what you sound like?', 'I sound like a sensible fucking man, is what I sound like.', 'Can I get anybody anymore coffee?', 'Oh yes, thank you.', 'I mean the way it is now, you\\'re takin\\' the same fuckin\\' risk as when you rob a bank. You take more of a risk. Banks are easier! Federal banks aren\\'t supposed to stop you anyway, during a robbery. They\\'re insured, why should they care? You don\\'t even need a gun in a federal bank. I heard about this guy, walked into a federal bank with a portable phone, handed the phone to the teller, the guy on the other end of the phone said: \"We got this guy\\'s little girl, and if you don\\'t give him all your money, we\\'re gonna kill \\'er.\"', 'Did it work?', 'Did it work?', \"Fuckin' A it worked, that's what I'm talkin' about! Knucklehead walks in a bank with a telephone, not a pistol, not a shotgun, but a fuckin' phone, cleans the place out, and they don't lift a fuckin' finger.\", 'Did they hurt the little girl?', \"I don't know. There probably never was a little girl – the point of the story isn't the little girl. The point of the story is they robbed the bank with a telephone.\", 'You wanna rob banks?', \"I'm not sayin' I wanna rob banks, I'm just illustrating that if we did, it would be easier than what we been doin'.\", \"So you don't want to be a bank robber?\", \"Naw, all those guys are goin' down the same road, either dead or servin' twenty.\", 'And no more liquor stores?', 'What have we been talking about? Yeah, no more-liquor-stores. Besides, it ain\\'t the giggle it usta be. Too many foreigners own liquor stores. Vietnamese, Koreans, they can\\'t fuckin\\' speak English. You tell \\'em: \"Empty out the register,\" and they don\\'t know what it fuckin\\' means. They make it too personal. We keep on, one of those gook motherfuckers\\' gonna make us kill \\'em.', 'What have we been talking about? Yeah, no more-liquor-stores. Besides, it ain\\'t the giggle it usta be. Too many foreigners own liquor stores. Vietnamese, Koreans, they can\\'t fuckin\\' speak English. You tell \\'em: \"Empty out the register,\" and they don\\'t know what it fuckin\\' means. They make it too personal. We keep on, one of those gook motherfuckers\\' gonna make us kill \\'em.', \"I'm not gonna kill anybody.\", 'Well, what else is there, day jobs?', 'Not this life.', 'Well what then?', 'Garcon! Coffee!', \"Here? It's a coffee shop.\", \"What's wrong with that? People never rob restaurants, why not? Bars, liquor stores, gas stations, you get your head blown off stickin' up one of them. Restaurants, on the other hand, you catch with their pants down. They're not expecting to get robbed, or not as expecting.\", \"What's wrong with that? People never rob restaurants, why not? Bars, liquor stores, gas stations, you get your head blown off stickin' up one of them. Restaurants, on the other hand, you catch with their pants down. They're not expecting to get robbed, or not as expecting.\", 'I bet in places like this you could cut down on the hero factor.', \"See, I got the idea last liquor store we stuck up. 'Member all those customers kept comin' in?\", 'Yeah.', 'Pretty smart, huh?', \"Pretty smart. I'm ready, let's go, right here, right now.\", \"Any of you fuckin' pricks move and I'll execute every one of you motherfuckers! Got that?\", '– Okay now, tell me about the hash bars?', '– Okay now, tell me about the hash bars?', 'What so you want to know?', 'What so you want to know?', 'Well, hash is legal there, right?', 'Well, hash is legal there, right?', \"Yeah, it's legal, but is ain't a hundred percent legal. I mean you can't walk into a restaurant, roll a joint, and start puffin' away. You're only supposed to smoke in your home or certain designated places.\", 'Those are hash bars?', \"Yeah, it breaks down like this: it's legal to buy it, it's legal to own it and, if you're the proprietor of a hash bar, it's legal to sell it. It's legal to carry it, which doesn't really matter 'cause – get a load of this – if the cops stop you, it's illegal for this to search you. Searching you is a right that the cops in Amsterdam don't have.\", \"You'll dig it the most. But you know what the funniest thing about Europe is?\", 'What?', 'What?', \"It's the little differences. A lotta the same shit we got here, they got there, but there they're a little different.\", 'Examples?', \"Well, in Amsterdam, you can buy beer in a movie theatre. And I don't mean in a paper cup either. They give you a glass of beer, like in a bar. In Paris, you can buy beer at MacDonald's. Also, you know what they call a Quarter Pounder with Cheese in Paris?\", \"Well, in Amsterdam, you can buy beer in a movie theatre. And I don't mean in a paper cup either. They give you a glass of beer, like in a bar. In Paris, you can buy beer at MacDonald's. Also, you know what they call a Quarter Pounder with Cheese in Paris?\", \"They don't call it a Quarter Pounder with Cheese?\", \"They don't call it a Quarter Pounder with Cheese?\", \"No, they got the metric system there, they wouldn't know what the fuck a Quarter Pounder is.\", \"What'd they call it?\", 'Royale with Cheese.', \"Royale with Cheese. What'd they call a Big Mac?\", \"Big Mac's a Big Mac, but they call it Le Big Mac.\", 'Le Big Mac. What do they call a Whopper?', \"I dunno, I didn't go into a Burger King. But you know what they put on french fries in Holland instead of ketchup?\", \"I dunno, I didn't go into a Burger King. But you know what they put on french fries in Holland instead of ketchup?\", 'What?', 'What?', 'Mayonnaise.', 'How many up there?', 'Three or four.', 'Counting our guy?', \"I'm not sure.\", 'So there could be five guys up there?', \"It's possible.\", \"What's her name?\", 'Mia.', 'How did Marsellus and her meet?', 'I dunno, however people meet people. She usta be an actress.', 'She ever do anything I woulda saw?', 'I think her biggest deal was she starred in a pilot.', \"What's a pilot?\", 'Well, you know the shows on TV?', 'Well, you know the shows on TV?', \"I don't watch TV.\", \"Yes, but you're aware that there's an invention called television, and on that invention they show shows?\", 'Yeah.', 'You remember Antwan Rockamora? Half- black, half-Samoan, usta call him Tony Rocky Horror.', 'Yeah maybe, fat right?', 'Yeah maybe, fat right?', \"I wouldn't go so far as to call the brother fat. He's got a weight problem. What's the nigger gonna do, he's Samoan.\", 'I think I know who you mean, what about him?', \"Well, Marsellus fucked his ass up good. And word around the campfire, it was on account of Marsellus Wallace's wife.\", \"What'd he do, fuck her?\", \"No no no no no no no, nothin' that bad.\", 'Well what then?', 'He gave her a foot massage.', 'A foot massage?', \"That's all?\", \"That's all?\", 'What did Marsellus do?', 'What did Marsellus do?', \"Sent a couple of guys over to his place. They took him out on the patio of his apartment, threw his ass over the balcony. Nigger fell four stories. They had this garden at the bottom, enclosed in glass, like one of them greenhouses – nigger fell through that. Since then, he's kinda developed a speech impediment.\", 'Whaddya mean?', \"You don't be givin' Marsellus Wallace's new bride a foot massage.\", \"You don't think he overreacted?\", \"Antwan probably didn't expect Marsellus to react like he did, but he had to expect a reaction.\", 'Have you ever given a foot massage?', \"Don't be tellin' me about foot massages – I'm the foot fuckin' master.\", \"Given a lot of 'em?\", \"Shit yeah. I got my technique down man, I don't tickle or nothin'.\", 'Have you ever given a guy a foot massage?', 'Fuck you.', 'How many?', 'Fuck you.', 'What time is it?', 'Seven-twenty-two in the morning.', \"What's her name again?\", \"Mia. Why you so interested in big man's wife?\", \"Mia. Why you so interested in big man's wife?\", \"Well, Marsellus is leavin' for Florida and when he's gone, he wants me to take care of Mia.\", 'Take care of her?', \"Not that! Take her out. Show her a good time. Don't let her get lonely.\", \"You're gonna be takin' Mia Wallace out on a date?\", \"It ain't a date. It's like when you and your buddy's wife go to a movie or somethin'. It's just... you know... good company.\", \"How you boys doin'?\", \"Am I trippin', or did I just ask you a question.\", 'Do you know who we are?', \"We're associates of your business partner Marsellus Wallace, you remember your business partner dont'ya?\", \"We're associates of your business partner Marsellus Wallace, you remember your business partner dont'ya?\", \"Now I'm gonna take a wild guess here: you're Brett, right?\", \"Now I'm gonna take a wild guess here: you're Brett, right?\", \"I'm Brett.\", \"I thought so. Well, you remember your business partner Marsellus Wallace, dont'ya Brett?\", 'I remember him.', \"Good for you. Looks like me and Vincent caught you at breakfast, sorry 'bout that. What'cha eatin'?\", 'Hamburgers.', 'Hamburgers. The cornerstone of any nutritious breakfast. What kinda hamburgers?', 'Cheeseburgers.', \"No, I mean where did you get'em? MacDonald's, Wendy's, Jack-in-the- Box, where?\", 'Big Kahuna Burger.', \"Big Kahuna Burger. That's that Hawaiian burger joint. I heard they got some tasty burgers. I ain't never had one myself, how are they?\", \"They're good.\", 'Mind if I try one of yours?', 'No.', 'Yours is this one, right?', 'Yeah.', \"Uuummmm, that's a tasty burger. Vince, you ever try a Big Kahuna Burger?\", 'No.', \"Well, if you like hamburgers give 'em a try sometime. Me, I can't usually eat 'em 'cause my girlfriend's a vegetarian. Which more or less makes me a vegetarian, but I sure love the taste of a good burger. You know what they call a Quarter Pounder with Cheese in France?\", 'No.', 'Royale with Cheese, you know why they call it that?', 'Because of the metric system?', 'Because of the metric system?', \"Check out the big brain on Brett. You'a smart motherfucker, that's right. The metric system. What's in this?\", \"Check out the big brain on Brett. You'a smart motherfucker, that's right. The metric system. What's in this?\", 'Sprite.', 'Sprite, good, mind if I have some of your tasty beverage to wash this down with?', 'Sure.', \"Uuuuummmm, hit's the spot! You, Flock of Seagulls, you know what we're here for?\", \"Then why don't you tell my boy here Vince, where you got the shit hid.\", \"– I don't remember askin' you a goddamn thing. You were sayin'?\", \"It's under the bed.\", 'We happy?', 'Vincent!', 'We happy?', \"We're happy.\", \"Look, what's your name? I got his name's Vincent, but what's yours?\", \"My name's Pitt, and you ain't talkin' your ass outta this shit.\", 'Oh, I\\'m sorry. Did that break your concentration? I didn\\'t mean to do that. Please, continue. I believe you were saying something about \"best intentions.\"', 'Whatsamatter? Oh, you were through anyway. Well, let me retort. Would you describe for me what Marsellus Wallace looks like?', 'Whatsamatter? Oh, you were through anyway. Well, let me retort. Would you describe for me what Marsellus Wallace looks like?', 'What country you from!', 'What?', '\"What\" ain\\'t no country I know! Do they speak English in \"What?\"', '\"What\" ain\\'t no country I know! Do they speak English in \"What?\"', 'What?', 'What?', 'English-motherfucker-can-you-speak- it?', 'English-motherfucker-can-you-speak- it?', 'Yes.', \"Then you understand what I'm sayin'?\", 'Yes.', 'What?', 'Say \"What\" again! C\\'mon, say \"What\" again! I dare ya, I double dare ya motherfucker, say \"What\" one more goddamn time!', '– does he look like a bitch?!', 'What?', 'What?', 'Does-he-look-like-a-bitch?!', 'Does-he-look-like-a-bitch?!', 'No.', \"Then why did you try to fuck 'im like a bitch?!\", \"I didn't.\", \"Yes ya did Brett. Ya tried ta fuck 'im. You ever read the Bible, Brett?\", 'Yes.', \"I think you're gonna find – when all this shit is over and done – I think you're gonna find yourself one smilin' motherfucker. Thing is Butch, right now you got ability. But painful as it may be, ability don't last. Now that's a hard motherfuckin' fact of life, but it's a fact of life your ass is gonna hafta git realistic about. This business is filled to the brim with unrealistic motherfuckers who thought their ass aged like wine. Besides, even if you went all the way, what would you be? Feather-weight champion of the world. Who gives a shit? I doubt you can even get a credit card based on that.\", 'Now the night of the fight, you may fell a slight sting, that\\'s pride fuckin\\' wit ya. Fuck pride! Pride only hurts, it never helps. Fight through that shit. \\'Cause a year from now, when you\\'re kickin\\' it in the Caribbean you\\'re gonna say, \"Marsellus Wallace was right.\"', \"Where's the big man?\", \"He's over there, finishing up some business.\", 'Hang back for a second or two, and when you see the white boy leave, go on over. In the meanwhile, can I make you an espresso?', \"How 'bout a cup of just plain lo' American?\", \"How 'bout a cup of just plain lo' American?\", \"Comin' up. I hear you're taking Mia out tomorrow?\", \"Comin' up. I hear you're taking Mia out tomorrow?\", \"At Marsellus' request.\", 'Have you met Mia?', 'Not yet.', \"What's so funny?\", 'Not a goddamn thing.', \"Can I get a pack'a Red Apples?\", 'Filters?', 'Filters?', 'Non.', \"Lookin' at somethin', friend?\", \"I ain't your friend, palooka.\", 'What was that?', 'I think ya heard me just fine, punchy.', \"You know how they use that gun when they pierce your ears? They don't use that when they pierce your nipples, do they?\", \"Forget that gun. That gun goes against the entire idea behind piercing. All of my piercing, sixteen places on my body, every one of 'em done with a needle. Five in each ear. One through the nipple on my left breast. One through my right nostril. One through my left eyebrow. One through my lip. One in my clit. And I wear a stud in my tongue.\", \"Excuse me, sorry to interrupt. I'm curious, why would you get a stud in your tongue?\", \"It's a sex thing. It helps fellatio.\", \"Am I a nigger? Are you in Inglewood? No. You're in my house. White people who know the difference between good shit and bad shit, this is the house they come to. My shit, I'll take the Pepsi Challenge with Amsterdam shit any ol' day of the fuckin' week.\", \"That's a bold statement.\", \"I just hope I still have it. Whaddya think of Trudi? She ain't got a boyfriend, wanna hand out an' get high?\", \"Which one's Trudi? The one with all the shit in her face?\", \"Which one's Trudi? The one with all the shit in her face?\", \"No, that's Jody. That's my wife.\", \"I'm on my way somewhere. I got a dinner engagement. Rain check?\", 'No problem?', 'No problem?', \"You don't mind if I shoot up here?\", \"You don't mind if I shoot up here?\", 'Me casa, su casa.', 'Still got your Malibu?', 'You know what some fucker did to it the other day?', 'You know what some fucker did to it the other day?', 'What?', 'What?', \"Fuckin' keyed it.\", \"I just wish I caught 'em doin' it, ya know? Oh man, I'd give anything to catch 'em doin' it. It'a been worth his doin' it, if I coulda just caught 'em, you know what I mean?\", \"It's chicken shit. You don't fuck another man's vehicle.\", 'Hello?', 'Vincent.', 'What the fuck is this place?', \"This is Jackrabbit Slim's. An Elvis man should love it.\", \"Hi, I'm Buddy, what can I get'cha?\", \"I'll have the Douglas Sirk steak.\", \"How d'ya want it, burnt to a crisp, or bloody as hell?\", 'Bloody as hell. And to drink, a vanilla coke.', \"How 'bout you, Peggy Sue?\", \"I'll have the Durwood Kirby burger – bloody – and a five-dollar shake.\", \"How d'ya want that shake, Martin and Lewis, or Amos and Andy?\", 'Martin and Lewis.', 'Did you just order a five-dollar shake?', 'Sure did.', 'A shake? Milk and ice cream?', 'Uh-huh.', 'It costs five dollars?', 'Yep.', \"You don't put bourbon in it or anything?\", 'Nope.', 'Whaddya think?', \"It's like a wax museum with a pulse rate.\", 'What are you doing?', \"Rollin' a smoke.\", 'Here?', \"It's just tobacco.\", 'Oh. Well in that case, will you roll me one, cowboy?', 'You can have this one, cowgirl.', 'What was it?', 'It was show about a team of female secret agents called \"Fox Force Five.\"', 'What?', '\"Fox Force Five.\" Fox, as in we\\'re a bunch of foxy chicks. Force, as in we\\'re a force to be reckoned with. Five, as in there\\'s one... two ... three... four... five of us. There was a blonde one, Sommerset O\\'Neal from that show \"Baton Rouge,\" she was the leader. A Japanese one, a black one, a French one and a brunette one, me. We all had special skills. Sommerset had a photographic memory, the Japanese fox was a kung fu master, the black girl was a demolition expert, the French fox\\' specialty was sex...', 'What was your specialty?', \"Knives. The character I played, Raven McCoy, her background was she was raised by circus performers. So she grew up doing a knife act. According to the show, she was the deadliest woman in the world with a knife. But because she grew up in a circus, she was also something of an acrobat. She could do illusions, she was a trapeze artist – when you're keeping the world safe from evil, you never know when being a trapeze artist's gonna come in handy. And she knew a zillion old jokes her grandfather, an old vaudevillian, taught her. If we woulda got picked up, they woulda worked in a gimmick where every episode I woulda told and ol joke.\", 'Do you remember any of the jokes?', \"Well I only got the chance to say one, 'cause we only did one show.\", \"You told it in front of fifty million people and you can't tell it to me? I promise I won't laugh.\", \"That's what I'm afraid of.\", \"You're quite the silver tongue devil, aren't you?\", \"I meant I wouldn't laugh at you.\", \"Can I have a sip of that? I'd like to know what a five-dollar shake tastes like.\", 'Be my guest.', \"Don't you hate that?\", 'What?', 'What?', \"Uncomfortable silences. Why do we feel it's necessary to yak about bullshit in order to be comfortable?\", \"Uncomfortable silences. Why do we feel it's necessary to yak about bullshit in order to be comfortable?\", \"I don't know.\", \"Don't you love it when you go to the bathroom and you come back to find your food waiting for you?\", \"We're lucky we got it at all. Buddy Holly doesn't seem to be much of a waiter. We shoulda sat in Marilyn Monroe's section.\", 'Did ya think of something to say?', \"Actually, there's something I've wanted to ask you about, but you seem like a nice person, and I didn't want to offend you.\", 'Is that a fact?', \"Besides, it's more exciting when you don't have permission.\", 'What do you think about what happened to Antwan?', \"Who's Antwan?\", \"Who's Antwan?\", 'Tony Rocky Horror.', 'Is that a fact?', \"No it's not, it's just what I heard.\", 'Who told you this?', 'They.', \"They talk a lot, don't they?\", 'They certainly do.', \"Well don't by shy Vincent, what exactly did they say?\", 'Let me help you Bashful, did it involve the F-word?', 'Let me help you Bashful, did it involve the F-word?', 'No. They just said Rocky Horror gave you a foot massage.', 'And...?', \"No and, that's it.\", 'You heard Marsellus threw Rocky Horror out of a four-story window because he massaged my feet?', 'Yeah.', 'And you believed that?', 'At the time I was told, it seemed reasonable.', 'Marsellus throwing Tony out of a four story window for giving me a foot massage seemed reasonable?', \"No, it seemed excessive. But that doesn't mean it didn't happen. I heard Marsellus is very protective of you.\", 'But did it happen?', \"The only thing Antwan ever touched of mine was my hand, when he shook it. I met Anwan once – at my wedding – then never again. The truth is, nobody knows why Marsellus tossed Tony Rocky Horror out of that window except Marsellus and Tony Rocky Horror. But when you scamps get together, you're worse than a sewing circle.\", '...Now, who will be our first contestants?', 'Right here.', \"Now let's meet our first contestants here this evening. Young lady, what is your name?\", 'Missus Mia Wallace.', \"And, uh, how 'bout your fella here?\", 'Vincent Vega.', 'Was than an uncomfortable silence?', \"I don't know what that was. Music and drinks!\", 'Mia! MIA! What the hell happened?', \"I'll be a son-of-a-bitch. Mia! MIA! What did you take? Answer me honey, what did you take?\", \"I'll be a son-of-a-bitch. Mia! MIA! What did you take? Answer me honey, what did you take?\", \"Okay honey, we're getting you on your feet.\", \"I told 'em and that's what I'm gonna tell this fuckin' asshole right now! Hello, do you know how late it is? You're not supposed to be callin' me this fuckin' late.\", \"Lance, this is Vincent, I'm in big fuckin' trouble man, I'm on my way to your place.\", \"Whoa, hold you horses man, what's the problem?\", 'You still got an adrenaline shot?', 'You still got an adrenaline shot?', 'Maybe.', \"She's ODin'?\", \"Yeah. She's dyin'.\", \"She ain't my fuckin' problem, you fucked her up, you deal with it – are you talkin' to me on a cellular phone?\", 'Sorry.', 'What the hell was that?', \"Have you lost your mind?! You crashed your car in my fuckin' house! You talk about drug shit on a cellular fuckin' phone –\", \"Have you lost your mind?! You crashed your car in my fuckin' house! You talk about drug shit on a cellular fuckin' phone –\", \"If you're through havin' your little hissy fit, this chick is dyin', get your needle and git it now!\", \"Are you deaf? You're not bringin' that fucked up bitch in my house!\", \"This fucked up bitch is Marsellus Wallace's wife. Now if she fuckin' croaks on me, I'm a grease spot. But before he turns me into a bar soap, I'm gonna be forced to tell 'im about how you coulda saved her life, but instead you let her die on your front lawn.\", \"It's only one-thirty in the goddamn mornin'! What the fuck's goin' on out here?\", \"Who's she?\", \"Who's she?\", 'Get that black box in the bedroom I have with the adrenaline shot.', \"What's wrong with her?\", \"She's ODing on us.\", \"Look, just keep talkin' to her, okay? While she's gettin' the shot, I gotta get a medical book.\", 'What do you need a medical book for?', 'What do you need a medical book for?', \"To tell me how to do it. I've never given an adrenaline shot before.\", \"You've had that thing for six years and you never used it?\", \"I never had to use it. I don't go joypoppin' with bubble-gummers, all of my friends can handle their highs!\", \"What's he lookin' for?\", 'I dunno, some medical book.', \"What are you lookin' for?\", 'My black medical book!', \"Whata're you looking for?\", \"My black fuckin' medical book. It's like a text book they give to nurses.\", \"Well if it's that important, why didn't you keep it with the shot?\", \"I don't know! Stop bothering me!\", 'Does it have to be exact?', \"Yeah, it has to be exact! I'm giving her an injection in the heart, so I gotta exactly hit her in the heart.\", 'I need a big fat magic marker, got one?', 'What?', 'What?', \"I need a big fat magic marker, any felt pen'll do, but a magic marker would be great.\", 'Okay, what do I do?', \"Well, you're giving her an injection of adrenaline straight to her heart. But she's got a breast plate in front of her heart, so you gotta pierce through that. So what you gotta do is bring the needle down in a stabbing motion.\", 'I gotta stab her?', 'If you want the needle to pierce through to her heart, you gotta stab her hard. Then once you do, push down on the plunger.', 'What happens after that?', \"I'm curious about that myself.\", 'Anybody want a beer?', 'Mia!', 'What are your thoughts on how to handle this?', \"What's yours?\", \"What's yours?\", \"Well I'm of the opinion that Marsellus can live his whole live and never ever hear of this incident.\", 'You still wanna hear my \"FOX FORCE FIVE\" joke?', \"Sure, but I think I'm still a little too petrified to laugh.\", 'Butch, stop watching TV a second. We got a special visitor. Now do you remember when I told you your daddy dies in a P.O.W. camp?', 'Uh-huh.', \"...Coolidge was out of there faster than I've ever seen a victorious boxer vacate the ring. Do you think he knew Willis was dead?\", \"My guess would be yes, Richard. I could see from my position here, the frenzy in his eyes give way to the realization of what he was doing. I think any man would've left the ring that fast.\", 'Do you feel this ring death tragedy will have an effect on the world of boxing?', \"Oh Dan, a tragedy like this can't help but shake the world of boxing to its very foundation. But it's of paramount importance that during the sad weeks ahead, the eyes of the W.B.A. remain firmly fixed on the –\", 'Are you the man I was supposed to pick up?', \"If you're the cab I called, I'm the guy you're supposed to pick up.\", 'Where to?', 'Outta here.', \"Mia. How you doin'?\", 'Great. I never thanked you for the dinner.', \"What'cha got?\", 'He booked.', 'Hey, how do I open the window back here?', 'I have to do it.', 'Hey, mister?', 'What?', 'What?', \"You were in that fight? The fight on the radio – you're the fighter?\", \"You were in that fight? The fight on the radio – you're the fighter?\", 'Whatever gave you that idea?', 'Whatever gave you that idea?', \"No c'mon, you're him, I know you're him, tell me you're him.\", \"He's dead?\", 'The radio said he was dead.', 'What does it feel like?', 'What does what feel like?', 'What does what feel like?', 'Killing a man. Beating another man to death with your bare hands.', 'Are you some kinda weirdo?', \"No, it's a subject I have much interest in. You are the first person I ever met who has killed somebody. So, what was it like to kill a man?\", \"No, it's a subject I have much interest in. You are the first person I ever met who has killed somebody. So, what was it like to kill a man?\", \"Tell ya what, you give me one of them cigarettes, I'll give you an answer.\", '...Esmarelda Villalobos – is that Mexican?', \"The name is Spanish, but I'm Columbian.\", 'Thank you. And what is your name?', 'Butch.', 'Butch. What does it mean?', \"I'm an American, our names don't mean shit. Anyway, moving right along, what is it you wanna know, Esmarelda?\", \"I'm an American, our names don't mean shit. Anyway, moving right along, what is it you wanna know, Esmarelda?\", 'I want to know what it feels like to kill a man –', \"– I couldn't tell ya. I didn't know he was dead 'til you told me he was dead. Now I know he's dead, do you wanna know how I feel about it?\", \"I don't feel the least little bit bad.\", \"What'd I tell ya, soon as the word got out a fix was in, the odds would be outta control. Hey, if he was a better fighter he's be alive. If he never laced up his gloves in the first place, which he never shoulda done, he'd be alive. Enough about the poor unfortunate Mr. Floyd, let's talk about the rich and prosperous Mr. Butch. How many bookies you spread it around with? Eight? How long to collect? So by tomorrow evening, you'll have it all? Good news Scotty, real good news – I understand a few stragglers aside. Me an' Fabienne're gonna leave in the morning. It should take us a couple days to get into Knoxville. Next time we see each other, it'll be on Tennessee time.\", 'Fabienne my love, our adventure begins.', \"Now if anybody should ask you about who your fare was tonight, what're you gonna tell 'em?\", 'The truth. Three well-dressed, slightly toasted, Mexicans.', 'Is that better, sugar pop?', 'Oui. Hard day at the office?', 'Oui. Hard day at the office?', 'Pretty hard. I got into a fight.', 'Poor baby. Can we make spoons?', 'I was looking at myself in the mirror.', 'Uh-huh?', 'I wish I had a pot.', \"You were lookin' in the mirror and you wish you had some pot?\", 'A pot. A pot belly. Pot bellies are sexy.', 'You want me to have a pot?', \"No. Pot bellies make a man look either oafish, or like a gorilla. But on a woman, a pot belly is very sexy. The rest of you is normal. Normal face, normal legs, normal hips, normal ass, but with a big, perfectly round pot belly. If I had one, I'd wear a tee-shirt two sizes too small to accentuate it.\", 'You think guys would find that attractive?', \"I don't give a damn what men find attractive. It's unfortunate what we find pleasing to the touch and pleasing to the eye is seldom the same.\", \"You'd punch me in my belly?\", 'Right in the belly.', \"You'd do that to me?\", 'Yes!', 'Did you get everything, sugar pop?', 'Yes, I did.', 'Did everything go as planned?', \"You didn't listen to the radio?\", \"You didn't listen to the radio?\", 'I never listen to your fights. Were you the winner?', 'I never listen to your fights. Were you the winner?', 'I won alright.', 'Are you still retiring?', 'Sure am.', 'What about the man you fought?', 'Floyd retired too.', \"Really?! He won't be fighting no more?!\", 'Not no more.', 'So it all worked out in the finish?', \"We ain't at the finish, baby.\", \"We're in a lot of danger, aren't we?\", \"If they find us, they'll kill us, won't they?\", \"If they find us, they'll kill us, won't they?\", \"But they won't find us, will they?\", \"But they won't find us, will they?\", 'Do you still want me to go with you?', 'Do you still want me to go with you?', \"I don't want to be a burden or a nuisance -\", 'Forever?', '...and ever.', 'Do you love me?', 'Oui.', 'Butch? Will you give me oral pleasure?', 'Will you kiss it?', 'Will you kiss it?', 'But you first.', 'Giving me oral pleasure?', 'No retard, from the fight.', 'Butch?', 'Yes, lemon pie.', 'Where are we going to go?', \"I'm not sure yet. Wherever you want. We're gonna get a lot of money from this. But it ain't gonna be so much, we can live like hogs in the fat house forever. I was thinking we could go somewhere in the South Pacific. The kinda money we'll have'll carry us a long way down there.\", 'So if we wanted, we could live in Bora Bora?', \"You betcha. And if after awhile you don't dig Bora Bora, then we can move over to Tahiti or Mexico.\", \"You don't speak Bora Boran either. Besides, Mexican is easy: Donde esta el zapataria?\", 'What does that mean?', 'What does that mean?', \"Where's the shoe store?\", \"Where's the shoe store?\", 'Donde esta el zapataria?', 'Donde esta el zapataria?', \"Excellent pronunciation. You'll be my little mama ceta in no time.\", 'Que hora es?', 'Que hora es?', 'Que hora es?', 'What time is it?', 'What time is it?', 'What time is it?', 'What time is it?', 'Time for bed. Sweet dream, jellybean.', 'Merde! You startled me. Did you have a bad dream?', 'What are you watching?', 'What are you watching?', \"A motorcycle movie, I'm not sure the name.\", \"Are you watchin' it?\", 'In a way. Why? Would you like for me to switch it off?', 'In a way. Why? Would you like for me to switch it off?', 'Would you please?', 'Would you please?', \"It's a little too early in the morning for explosions and war.\", 'What was it about?', \"How should I know, you were the one watchin' it.\", 'No, imbecile, what was your dream about?', \"Oh, I... don't remember. It's really rare I remember a dream.\", \"Well, let's look at the grumpy man in the morning. I didn't say you were lying, it's just odd you don't remember your dreams. I always remember mine. Did you know you talk in your sleep?\", \"I don't talk in my sleep, do I talk in my sleep?\", \"I don't talk in my sleep, do I talk in my sleep?\", 'You did last night.', 'What did I say?', \"I don't know. I couldn't understand you.\", 'Satisfied?', 'Yep.', 'What time is it?', 'Almost nine in the morning. What time does our train arrive?', 'Almost nine in the morning. What time does our train arrive?', 'Eleven.', 'Anything to drink with that?', \"Oh yes, that looks nice. To drink, a tall glass or orange juice and a black cup of coffee. After that, I'm going to have a slice of pie.\", 'Pie for breakfast?', 'Any time of the day is a good time for pie. Blueberry pie to go with the pancakes. And on top, a thin slice of melted cheese –', \"– where's my watch?\", \"It's there.\", 'Have you looked?', \"Yes I've fuckin' looked!!\", \"What the fuck do you think I'm doing?! Are you sure you got it?\", 'Uhhh... yes... beside the table drawer –', \"Oh it most definitely should be here, but it's not. So where is it?\", \"Fabienne, that was my father's fuckin' watch. You know what my father went through to git me that watch?... I don't wanna get into it right now... but he went through a lot. Now all this other shit, you coulda set on fire, but I specifically reminded you not to forget my father's watch. Now think, did you get it?\", \"Fabienne, that was my father's fuckin' watch. You know what my father went through to git me that watch?... I don't wanna get into it right now... but he went through a lot. Now all this other shit, you coulda set on fire, but I specifically reminded you not to forget my father's watch. Now think, did you get it?\", 'I believe so...', \"You believe so? You either did, or you didn't, now which one is it?\", 'Then I did.', 'Are you sure?', 'No.', 'Why does it mean that?', \"Because I'm going back to my apartment to get my watch.\", \"Won't the gangsters be looking for you there?\", \"That's what I'm gonna find out. If they are, and I don't think I can handle it, I'll split.\", \"Don't feel bad, sugar pop. Nothing you could ever do would make me permanently angry at you. I love you, remember? Now here's some money, order those pancakes and have a great breakfast.\", \"Don't go.\", 'Well maybe not that fast, but fast. Okay? Okay?', 'Okay.', 'Jesus, are you okay?', 'I guess.', 'Who?', 'Him.', \"Can I help you wit' somethin'?\", 'Shut up!', 'So you like chasing people, huh?', 'Well guess what, big man, you caught me –', \"Zed? It's Maynard. The spider just caught a coupl'a flies.\", 'Nobody kills anybody in my place of business except me or Zed.', 'You said you waited for me?', 'I did.', \"Then how come they're all beat up?\", \"They did that to each other. They was fightin' when they came in. This one was gonna shoot that one.\", 'You were gonna shoot him?', 'Hey, is Grace gonna be okay in front of this place?', 'Hey, is Grace gonna be okay in front of this place?', \"Yeah, it ain't Tuesday is it?\", \"Yeah, it ain't Tuesday is it?\", \"No, it's Thursday.\", \"Well, I guess you'll just wake 'em up then, won't you?\", 'Wake up!', \"Who's first?\", \"I ain't fer sure yet.\", 'Wanna do it here?', \"Naw, drag big boy to Russell's old room.\", 'You wanna fight? You wanna fight? Good, I like to fight!', \"That's it... that's it boy, you're goin' fine. Oooooooh, just like that... that's good. Stay still... stay still goddamn ya! Zed goddammit, git over here and hold 'em!\", 'Huhng?', 'Hey hillbilly.', 'You want that gun, Zed? Pick it up.', 'Step aside, Butch.', 'You okay?', \"Naw man. I'm pretty fuckin' far from okay!\", 'What now?', \"What now? Well let me tell you what now. I'm gonna call a couple pipe- hittin' niggers, who'll go to work on homes here with a pair of pliers and a blow torch. Hear me talkin' hillbilly boy?! I ain't through with you by a damn sight. I'm gonna git Medieval on your ass.\", \"What now? Well let me tell you what now. I'm gonna call a couple pipe- hittin' niggers, who'll go to work on homes here with a pair of pliers and a blow torch. Hear me talkin' hillbilly boy?! I ain't through with you by a damn sight. I'm gonna git Medieval on your ass.\", 'I meant what now, between me and you?', 'I meant what now, between me and you?', \"Oh, that what now? Well, let me tell ya what now between me an' you. There is no me an' you. Not no more.\", \"Oh, that what now? Well, let me tell ya what now between me an' you. There is no me an' you. Not no more.\", \"So we're cool?\", \"So we're cool?\", \"Yeah man, we're cool. One thing I ask – two things I ask: Don't tell nobody about this. This shit's between me and you and the soon-to-be-livin'- the-rest-of-his-short-ass-life-in- agonizing-pain, Mr. Rapist here. It ain't nobody else's business. Two: leave town. Tonight. Right now. And when you're gone, stay gone. You've lost your Los Angeles privileges. Deal?\", \"Yeah man, we're cool. One thing I ask – two things I ask: Don't tell nobody about this. This shit's between me and you and the soon-to-be-livin'- the-rest-of-his-short-ass-life-in- agonizing-pain, Mr. Rapist here. It ain't nobody else's business. Two: leave town. Tonight. Right now. And when you're gone, stay gone. You've lost your Los Angeles privileges. Deal?\", 'Deal.', 'But what about all our bags?', \"Fuck the bags. We'll miss our train if we don't split now.\", 'Is everything well? Are we in danger?', \"We're cool. In fact, we're super- cool. But we gots to go. I'll wait for you outside.\", 'Where did you get this motorcycle?', \"It's a chopper, baby, hop on.\", 'What happened to my Honda?', 'Sorry baby, I crashed the Honda.', \"You're hurt?\", \"I might've broke my nose, no biggie. Hop on.\", \"I'm sorry I worried you, sweetie. Everything's fine. Hey, how was breakfast?\", 'It was good –', '– did you get the blueberry pancakes?', \"No, they didn't have blueberry pancakes, I had to get buttermilk – are you sure you're okay?\", \"No, they didn't have blueberry pancakes, I had to get buttermilk – are you sure you're okay?\", \"Baby-love, from the moment I left you, this has been without a doubt the single weirdest day of my entire life. Climb on an' I'll tell ya about it.\", 'Butch, whose motorcycle is this?', \"It's a chopper.\", 'Whose chopper is this?', \"Zed's.\", \"Who's Zed?\", \"Zed's dead, baby, Zed's dead.\", 'You ever read the Bible, Brett?', 'Yes!', 'Friend of yours?', 'Yeah, Marvin-Vincent-Vincent-Marvin.', \"Why the fuck didn't you tell us about that guy in the bathroom? Slip your mind? Forget he was in there with a goddamn hand cannon?\", \"We should be fuckin' dead right now. Did you see that gun he fired at us? It was bigger than him.\", \"We should be fuckin' dead right now. Did you see that gun he fired at us? It was bigger than him.\", '.357.', 'That was... divine intervention. You know what divine intervention is?', 'Yeah, I think so. That means God came down from Heaven and stopped the bullets.', 'Do you wanna continue this theological discussion in the car, or at the jailhouse with the cops?', \"We should be fuckin' dead now, my friend! We just witnessed a miracle, and I want you to fuckin' acknowledge it!\", 'Okay man, it was a miracle, can we leave now?', '...Ever seen that show \"COPS?\" I was watchin\\' it once and this cop was on it who was talkin\\' about this time he got into this gun fight with a guy in a hallway. He unloads on this guy and he doesn\\'t hit anything. And these guys were in a hallway. It\\'s a freak, but it happens.', '...Ever seen that show \"COPS?\" I was watchin\\' it once and this cop was on it who was talkin\\' about this time he got into this gun fight with a guy in a hallway. He unloads on this guy and he doesn\\'t hit anything. And these guys were in a hallway. It\\'s a freak, but it happens.', \"If you wanna play blind man, then go walk with a Shepherd. But me, my eyes are wide fuckin' open.\", 'What the fuck does that mean?', \"That's it for me. For here on in, you can consider my ass retired.\", 'Marvin, what do you make of all this?', \"I don't even have an opinion.\", \"C'mon, Marvin. Do you think God came down from Heaven and stopped the bullets?\", \"What the fuck's happening?\", \"What the fuck's happening?\", 'I just accidentally shot Marvin in the throat.', 'Why the fuck did you do that?', \"I didn't mean to do it. I said it was an accident.\", \"– chill out, man, it was an accident, okay? You hit a bump or somethin' and the gun went off.\", \"The car didn't hit no motherfuckin' bump!\", \"Can't we just take it to a friendly place?\", \"This is the Valley, Vincent. Marsellus don't got no friendly places in the Valley.\", \"Who ya callin'?\", 'A buddy of mine in Toluca Lake.', 'If he kicks us out, whadda we do?', \"Well, we ain't leavin' 'til we made a couple phone calls. But I never want it to reach that pitch. Jimmie's my friend and you don't bust in your friend's house and start tellin' 'im what's what.\", 'What the fuck did you just do to his towel?', \"I was just dryin' my hands.\", \"I used the same soap you did and when I dried my hands, the towel didn't look like a fuckin' Maxie pad. Look, fuck it, alright. Who cares? But it's shit like this that's gonna bring this situation to a boil. If he were to come in here and see that towel like that... I'm tellin' you Vincent, you best be cool. 'Cause if I gotta get in to it with Jimmie on account of you... Look, I ain't threatenin' you, I respect you an' all, just don't put me in that position.\", \"Jules, you ask me nice like that, no problem. He's your friend, you handle him.\", \"Goddamn Jimmie, this is some serious gourmet shit. Me an' Vincent woulda been satisfied with freeze-dried Tasters Choice. You spring this gourmet fuckin' shit on us. What flavor is this?\", 'Knock it off, Julie.', 'What?', \"I'm not a cobb or corn, so you can stop butterin' me up. I don't need you to tell me how good my coffee is. I'm the one who buys it, I know how fuckin' good it is. When Bonnie goes shoppin;, she buys shit. I buy the gourmet expensive stuff 'cause when I drink it, I wanna taste it. But what's on my mind at this moment isn't the coffee in my kitchen, it's the dead nigger in my garage.\", '– I\\'m talkin\\'. Now let me ask you a question, Jules. When you drove in here, did you notice a sign out front that said, \"Dead nigger storage?\"', '– answer to question. Did you see a sign out in front of my house that said, \"Dead nigger storage?\"', '– answer to question. Did you see a sign out in front of my house that said, \"Dead nigger storage?\"', \"Naw man, I didn't.\", \"You know why you didn't see that sign?\", 'Why?', 'Why?', \"'Cause storin' dead niggers ain't my fuckin' business!\", \"...well, say she comes home. Whaddya think she'll do? No fuckin' shit she'll freak. That ain't no kinda answer. You know 'er, I don't. How bad, a lot or a little?\", \"You got to appreciate what an explosive element this Bonnie situation is. If she comes home from a hard day's work and finds a bunch of gangsters doin' a bunch of gangsta' shit in her kitchen, ain't no tellin' what she's apt to do.\", \"You sendin' The Wolf?\", 'Feel better?', 'Feel better?', \"Shit Negro, that's all you had to say.\", \"Is she the hysterical type? When she due? Give me the principals' names again? Jules...\", '...Vincent... Jimmie... Bonnie...', \"You're Jimmie, right? This is your house?\", 'Yeah.', 'So I heard. May I come in?', 'Please do.', \"You must be Jules, which would make you Vincent. Let's get down to brass tacks, gentlemen. If I was informed correctly, the clock is ticking, is that right, Jimmie?\", '100%.', 'Your wife, Bonnie... ...comes home at 9:30 in the AM, is that correct?', 'Uh-huh.', 'Jimmie?', 'Yes.', 'Do me a favor, will ya? Thought I smelled some coffee in there. Would you make me a cup?', 'Sure, how do you take it?', 'Sure, how do you take it?', 'Lotsa cream, lotsa sugar.', 'About the car, is there anything I need to know? Does it stall, does it make a lot of noise, does it smoke, is there gas in it, anything?', \"Aside from how it looks, the car's cool.\", \"Positive? Don't get me out on the road and I find out the brake lights don't work.\", \"Hey man, as far as I know, the motherfucker's tip-top.\", 'Okay first thing, you two. Take the body, stick it in the trunk. Now Jimmie, this looks to be a pretty domesticated house. That would lead me to believe that in the garage or under the sink, you got a bunch of cleansers and cleaners and shit like that, am I correct?', 'Yeah. Exactly. Under the sink.', 'Come again?', 'I said a \"please\" would be nice.', \"It's a 1974 Chevy Nova. White. Nothin', except for the mess inside. About twenty minutes. Nobody who'll be missed. You're a good man, Joe. See ya soon. How we comin', Jimmie?\", \"Mr. Wolf, you gotta understand somethin' –\", \"– let me ask you a question, if you don't mind?\", 'Sure.', 'Were you Uncle Conrad and Aunt Ginny millionaires?', 'No.', \"Well, your Uncle Marsellus is. And I'm positive if Uncle Conrad and Aunt Ginny were millionaires, they would've furnished you with a whole bedroom set, which your Uncle Marsellus is more than happy to do. I like oak myself, that's what's in my bedroom. How 'bout you Jimmie, you an oak man?\", \"Oak's nice.\", \"Did you ever hear the philosophy that once a man admits he's wrong, he's immediately forgiven for all wrong-doings?\", 'Man, get outta my face with that shit! The motherfucker who said that never had to pick up itty-bitty pieces of skull with his fingers on account of your dumb ass.', 'You\\'re gettin\\' ready to blow? I\\'m a mushroom-cloud-layin\\' motherfucker! Every time my fingers touch brain I\\'m \"SUPERFLY T.N.T,\" I\\'m the \"GUNS OF NAVARONE.\" I\\'m what Jimmie Walker usta talk about. In fact, what the fuck am I doin\\' in the back? You\\'re the motherfucker should be on brain detail. We\\'re tradin\\'. I\\'m washin\\' windows and you\\'re pickin\\' up this nigger\\'s skull.', 'Fine job, gentlemen. We may get out of this yet.', 'All the way?', 'To your bare ass.', 'Are you sure this is absolutely necessary?', 'You know what you two look like?', 'You know what you two look like?', 'What?', 'What?', \"Like a couple of guys who just blew off somebody's head. Yes, strippin' off those bloody rags is absolutely necessary. Toss the clothes in Jim's garbage bag.\", \"Perfect. Perfect. We couldn't've planned this better. You guys look like... what do they look like, Jimmie?\", 'Dorks. They look like a couple of dorks.', \"Gentlemen, let's get our rules of the road straight. We're going to a place called Monster Joe's Truck and Tow. Monster Joe and his daughter Raquel are sympathetic to out dilemma. The place is North Hollywood, so a few twist and turns aside, we'll be goin' up Hollywood Way. Now I'll drive the tainted car. Jules, you ride with me. Vincent, you follow in my Porsche. Now if we cross the path of any John Q. Laws, nobody does a fuckin' thing 'til I do something. What did I say?\", \"Don't do shit unless –\", '– unless what?', 'Unless you do it first.', \"Spoken like a true prodigy. How 'bout you, Lash Larue? Can you keep your spurs from jingling and jangling?\", \"I'm cool, Mr. Wolf. My gun just went off, I dunno how.\", 'We cool?', 'Like it never happened.', 'Hi. You know, if they ever do \"I SPY: THE MOTION PICTURE,\" you guys, I\\'d be great. What\\'s with the outfits. You guys going to a volleyball game?', \"I'm takin' m'lady out to breakfast. Maybe I can drop you two off. Where do you live?\", \"I'm takin' m'lady out to breakfast. Maybe I can drop you two off. Where do you live?\", 'Redondo Beach.', \"You hear that, young lady? Respect. You could lean a lot from those two fine specimens. Respect for one's elders shows character.\", 'I have character.', 'Wanna share a cab?', 'You know I could go for some breakfast. Want to have breakfast with me?', 'You know I could go for some breakfast. Want to have breakfast with me?', 'Sure.', 'Thanks a bunch. Want a sausage?', \"Naw, I don't eat pork.\", 'Are you Jewish?', \"I ain't Jewish man, I just don't dig on swine.\", 'Why not?', \"They're filthy animals. I don't eat filthy animals.\", 'How about dogs? Dogs eat their own feces.', \"I don't eat dog either.\", 'Yes, but do you consider a dog to be a filthy animal?', \"I wouldn't go so far as to call a dog filthy, but they're definitely dirty. But a dog's got personality. And personality goes a long way.\", \"So by that rationale, if a pig had a better personality, he's cease to be a filthy animal?\", \"We'd have to be talkin' 'bout one motherfuckin' charmin' pig. It'd have to be the Cary Grant of pigs.\", 'About what?', 'The miracle we witnessed.', 'Do you know that a miracle is?', 'An act of God.', \"What's an act of God?\", \"I guess it's when God makes the impossible possible. And I'm sorry Jules, but I don't think what happened this morning qualifies.\", 'But why?', \"That's what's fuckin' wit' me! I don't know why. But I can't go back to sleep.\", \"So you're serious, you're really gonna quit?\", 'The life, most definitely.', \"So if you're quitting the life, what'll you do?\", \"That's what I've been sitting here contemplating. First, I'm gonna deliver this case to Marsellus. Then, basically, I'm gonna walk the earth.\", 'What do you mean, walk the earth?', 'You know, like Caine in \"KUNG FU.\" Just walk from town to town, meet people, get in adventures.', 'How long do you intend to walk the earth?', 'Until God puts me where he want me to be.', 'What if he never does?', \"If it takes forever, I'll wait forever.\", 'So you decided to be a bum?', \"I'll just be Jules, Vincent – no more, no less.\", \"Any of you fuckin' pricks move and I'll execute every one of you motherfuckers! Got that?!\", 'Customers stay seated, waitresses on the floor.', \"On the floor or I'll cook you ass, comprende?\", \"I'm the manager here, there's no problem, no problem at all –\", \"You're gonna give me a problem?\", \"What? You said you're gonna give me a problem?\", \"What? You said you're gonna give me a problem?\", \"No, I'm not. I'm not gonna give you any problem!\", \"Okay people, I'm going to go 'round and collect your wallets. Don't talk, just toss 'em in the bag. We clear?\", 'In the bag.', \"What's in that?\", \"My boss' dirty laundry.\", 'You boss makes you do his laundry?', 'When he wants it clean.', \"What's goin' on?\", 'Looks like we got a vigilante in our midst.', \"I'm countin' to three, and if your hand ain't off that case, I'm gonna unload right in your fuckin' face. Clear? One...\", '...two... three.', 'What is it? What is it?', 'Is that what I think it is?', 'Is that what I think it is?', \"It's beautiful.\", 'Goddammit, what is it?', \"Let him go! Let him go! I'll blow your fuckin' head off! I'll kill ya! I'll kill ya! You're gonna die, you're gonna fuckin' die bad!\", \"What's her name?\", 'Yolanda.', \"So, we cool Yolanda? We ain't gonna do anything stupid, are we?\", \"Don't you hurt him.\", \"Nobody's gonna hurt anybody. We're gonna be like three Fonzies. And what' Fonzie like?\", \"C'mon Yolanda, what's Fonzie like?\", \"C'mon Yolanda, what's Fonzie like?\", \"He's cool?\", \"He's cool?\", \"Correct-amundo! And that's what we're gonna be, we're gonna be cool. Now Ringo, I'm gonna count to three and I want you to let go your gun and lay your palms flat on the table. But when you do it, do it cool. Ready?\", \"Correct-amundo! And that's what we're gonna be, we're gonna be cool. Now Ringo, I'm gonna count to three and I want you to let go your gun and lay your palms flat on the table. But when you do it, do it cool. Ready?\", 'One... two... three.', \"What the fuck's goin' on here?\", \"It's cool, Vincent! It's cool! Don't do a goddamn thing. Yolanda, it's cool baby, nothin's changed. We're still just talkin'. Tell her we're still cool.\", \"What the hell's goin' on, Jules?\", \"Nothin' I can't handle. I want you to just hang back and don't do shit unless it's absolutely necessary.\", 'Yolanda, how we doin, baby?', 'I gotta go pee! I want to go home.', 'Which one is it?', \"It's the one that says Bad Motherfucker on it.\", \"That's my bad motherfucker. Now open it up and take out the cash. How much is there?\", 'About fifteen hundred dollars.', \"You ain't gonna do a goddamn thing, now hang back and shut the fuck up. Besides, I ain't givin' it to him. I'm buyin' somethin' for my money. Wanna know what I'm buyin' Ringo?\", 'What?', 'What?', \"Your life. I'm givin' you that money so I don't hafta kill your ass. You read the Bible?\", \"Your life. I'm givin' you that money so I don't hafta kill your ass. You read the Bible?\", 'Not regularly.']\n"
     ]
    }
   ],
   "source": [
    "print(myList)"
   ]
  },
  {
   "cell_type": "code",
   "execution_count": 130,
   "id": "20b0ec39",
   "metadata": {},
   "outputs": [],
   "source": [
    "# Save it to a CSV file locally\n",
    "df_pulp_fiction.to_csv('pulp_fiction_Q&A.csv')"
   ]
  },
  {
   "cell_type": "code",
   "execution_count": 131,
   "id": "fc9f236d",
   "metadata": {},
   "outputs": [],
   "source": [
    "# Let's Repeat this for other data files of Movies "
   ]
  },
  {
   "cell_type": "code",
   "execution_count": 132,
   "id": "40924f3f",
   "metadata": {},
   "outputs": [],
   "source": [
    "# 2. Game of Thrones"
   ]
  },
  {
   "cell_type": "code",
   "execution_count": 133,
   "id": "db7debd4",
   "metadata": {},
   "outputs": [],
   "source": [
    "df2 = pd.read_csv('/Users/thejakamahaulpatha/PycharmProjects/TalkingRobot/Data Sources/Movie Scripts/Game_of_Thrones_Script.csv')\n",
    "\n",
    "df2 = df2[[\"Sentence\"]]\n",
    "\n",
    "#Iterating through the dataframe to create 2 lists including Questions and Answers. Isolate Questions by identifying\n",
    "# - Strings with '?' . \n",
    "myQunList = []\n",
    "myAnsList =[]\n",
    "\n",
    "i = 0\n",
    "a,b = 0,0\n",
    "for i in df2.index:\n",
    "    str1 = df2[\"Sentence\"][i]\n",
    "    if str1.find(\"?\")!=-1:\n",
    "        myQunList.append(df2[\"Sentence\"][i])\n",
    "        myAnsList.append(df2[\"Sentence\"][i+1])\n",
    "        \n",
    "df_game_of_thrones = pd.DataFrame(\n",
    "    {'Question': myQunList,\n",
    "     'Answer': myAnsList,\n",
    "    })\n",
    "\n",
    "# Save it to a CSV file locally\n",
    "df_game_of_thrones.to_csv('game_of_thronesQ&A.csv')\n"
   ]
  },
  {
   "cell_type": "code",
   "execution_count": 134,
   "id": "0b1a6da4",
   "metadata": {},
   "outputs": [],
   "source": [
    "# 3. Brooklyn 99"
   ]
  },
  {
   "cell_type": "code",
   "execution_count": 135,
   "id": "bcf9b2bc",
   "metadata": {},
   "outputs": [],
   "source": [
    "df3 = pd.read_csv('/Users/thejakamahaulpatha/PycharmProjects/TalkingRobot/Data Sources/Movie Scripts/B99_1x1(1).csv')\n",
    "\n",
    "df3 = df3[[\"Text\"]]\n",
    "\n",
    "#Iterating through the dataframe to create 2 lists including Questions and Answers. Isolate Questions by identifying\n",
    "# - Strings with '?' . \n",
    "myQunList = []\n",
    "myAnsList =[]\n",
    "\n",
    "i = 0\n",
    "a,b = 0,0\n",
    "for i in df3.index:\n",
    "    str1 = df3[\"Text\"][i]\n",
    "    if str1.find(\"?\")!=-1:\n",
    "        myQunList.append(df3[\"Text\"][i])\n",
    "        myAnsList.append(df3[\"Text\"][i+1])\n",
    "        \n",
    "df_b99 = pd.DataFrame(\n",
    "    {'Question': myQunList,\n",
    "     'Answer': myAnsList,\n",
    "    })\n",
    "\n",
    "# Save it to a CSV file locally\n",
    "df_b99.to_csv('b99Q&A.csv')\n"
   ]
  },
  {
   "cell_type": "code",
   "execution_count": 136,
   "id": "d25e1820",
   "metadata": {},
   "outputs": [],
   "source": [
    "# 4. Office"
   ]
  },
  {
   "cell_type": "code",
   "execution_count": 137,
   "id": "eb3ed993",
   "metadata": {},
   "outputs": [],
   "source": [
    "df4 = pd.read_csv('/Users/thejakamahaulpatha/PycharmProjects/TalkingRobot/Data Sources/Movie Scripts/The_Office_lines.csv')\n",
    "\n",
    "df4 = df4[[\"line_text\"]]\n",
    "\n",
    "#Iterating through the dataframe to create 2 lists including Questions and Answers. Isolate Questions by identifying\n",
    "# - Strings with '?' . \n",
    "myQunList = []\n",
    "myAnsList =[]\n",
    "\n",
    "i = 0\n",
    "a,b = 0,0\n",
    "for i in df4.index:\n",
    "    str1 = df4[\"line_text\"][i]\n",
    "    if str1.find(\"?\")!=-1:\n",
    "        myQunList.append(df4[\"line_text\"][i])\n",
    "        if (i+1) < len(df4[\"line_text\"]):\n",
    "            myAnsList.append(df4[\"line_text\"][i+1])\n",
    "        else:\n",
    "            myAnsList.append(\"Dummy\")\n",
    "        \n",
    "df_office = pd.DataFrame(\n",
    "    {'Question': myQunList,\n",
    "     'Answer': myAnsList,\n",
    "    })\n",
    "\n",
    "# Save it to a CSV file locally\n",
    "df_office.to_csv('officeQ&A.csv')\n"
   ]
  },
  {
   "cell_type": "code",
   "execution_count": 170,
   "id": "0026717e",
   "metadata": {},
   "outputs": [],
   "source": [
    "# 5. Seinfeld"
   ]
  },
  {
   "cell_type": "code",
   "execution_count": 171,
   "id": "2af8004b",
   "metadata": {},
   "outputs": [],
   "source": [
    "df5 = pd.read_csv('/Users/thejakamahaulpatha/PycharmProjects/TalkingRobot/Data Sources/Movie Scripts/scripts.csv')\n",
    "\n",
    "df5 = df5[[\"dialogue\"]]\n",
    "\n",
    "#Iterating through the dataframe to create 2 lists including Questions and Answers. Isolate Questions by identifying\n",
    "# - Strings with '?' . \n",
    "myQunList = []\n",
    "myAnsList =[]\n",
    "\n",
    "i = 0\n",
    "a,b = 0,0\n",
    "for i in df5.index:\n",
    "    str1 = df5[\"dialogue\"][i]\n",
    "    if str1.find(\"?\")!=-1:\n",
    "        myQunList.append(df5[\"dialogue\"][i])\n",
    "        if (i+1) < len(df5[\"dialogue\"]):\n",
    "            myAnsList.append(df5[\"dialogue\"][i+1])\n",
    "        else:\n",
    "            myAnsList.append(\"Dummy\")\n",
    "        \n",
    "df_seinfield = pd.DataFrame(\n",
    "    {'Question': myQunList,\n",
    "     'Answer': myAnsList,\n",
    "    })\n",
    "\n",
    "# Save it to a CSV file locally\n",
    "df_seinfield.to_csv('seinfieldQ&A.csv')\n"
   ]
  },
  {
   "cell_type": "markdown",
   "id": "9344da83",
   "metadata": {},
   "source": [
    "## Let's Combine"
   ]
  },
  {
   "cell_type": "code",
   "execution_count": 197,
   "id": "a895cbc2",
   "metadata": {},
   "outputs": [
    {
     "name": "stdout",
     "output_type": "stream",
     "text": [
      "(412, 2)\n",
      "(333, 2)\n",
      "(15701, 2)\n",
      "(17757, 2)\n",
      "(5799, 2)\n",
      "(40002, 2)\n"
     ]
    }
   ],
   "source": [
    "#list dataframe you want to append\n",
    "frame = [df_pulp_fiction, df_b99, df_office,df_seinfield,df_game_of_thrones]\n",
    "\n",
    "#new dataframe to store append result\n",
    "df_All_data = pd.DataFrame()\n",
    "\n",
    "for df in frame:\n",
    "    print(df.shape)\n",
    "    df_All_data = df_All_data.append(df)\n",
    "    \n",
    "# Save it to a CSV file locally\n",
    "df_All_data.to_csv('AllQ&A.csv')\n",
    "\n",
    "print(df_All_data.shape)"
   ]
  },
  {
   "cell_type": "code",
   "execution_count": 173,
   "id": "fdadc9f6",
   "metadata": {},
   "outputs": [],
   "source": [
    "stopwords_list = stopwords.words('english')\n",
    "\n",
    "lemmatizer = WordNetLemmatizer()\n",
    "\n",
    "def my_tokenizer(doc):\n",
    "    words = word_tokenize(doc)\n",
    "    \n",
    "    pos_tags = pos_tag(words)\n",
    "    \n",
    "    non_stopwords = [w for w in pos_tags if not w[0].lower() in stopwords_list]\n",
    "    \n",
    "    non_punctuation = [w for w in non_stopwords if not w[0] in string.punctuation]\n",
    "    \n",
    "    lemmas = []\n",
    "    for w in non_punctuation:\n",
    "        if w[1].startswith('J'):\n",
    "            pos = wordnet.ADJ\n",
    "        elif w[1].startswith('V'):\n",
    "            pos = wordnet.VERB\n",
    "        elif w[1].startswith('N'):\n",
    "            pos = wordnet.NOUN\n",
    "        elif w[1].startswith('R'):\n",
    "            pos = wordnet.ADV\n",
    "        else:\n",
    "            pos = wordnet.NOUN\n",
    "        \n",
    "        lemmas.append(lemmatizer.lemmatize(w[0], pos))\n",
    "\n",
    "    return lemmas"
   ]
  },
  {
   "cell_type": "code",
   "execution_count": 186,
   "id": "f7f21f67",
   "metadata": {},
   "outputs": [],
   "source": [
    "## Use this to install NLTK\n",
    "\n",
    "# import nltk\n",
    "# import ssl\n",
    "\n",
    "# try:\n",
    "#     _create_unverified_https_context = ssl._create_unverified_context\n",
    "# except AttributeError:\n",
    "#     pass\n",
    "# else:\n",
    "#     ssl._create_default_https_context = _create_unverified_https_context\n",
    "\n",
    "# nltk.download()"
   ]
  },
  {
   "cell_type": "code",
   "execution_count": 198,
   "id": "37549d03",
   "metadata": {},
   "outputs": [
    {
     "name": "stdout",
     "output_type": "stream",
     "text": [
      "(40002, 16246)\n"
     ]
    }
   ],
   "source": [
    "tfidf_vectorizer = TfidfVectorizer(tokenizer=my_tokenizer)\n",
    "tfidf_matrix = tfidf_vectorizer.fit_transform(tuple(df_All_data['Question']))\n",
    "print(tfidf_matrix.shape)"
   ]
  },
  {
   "cell_type": "code",
   "execution_count": 199,
   "id": "22bf0c78",
   "metadata": {},
   "outputs": [],
   "source": [
    "def ask_question(question):\n",
    "    query_vect = tfidf_vectorizer.transform([question])\n",
    "    similarity = cosine_similarity(query_vect, tfidf_matrix)\n",
    "    max_similarity = np.argmax(similarity, axis=None)\n",
    "    \n",
    "    print('Your question:', question)\n",
    "    print('Closest question found:', df_All_data.iloc[max_similarity]['Question'])\n",
    "    print('Similarity: {:.2%}'.format(similarity[0, max_similarity]))\n",
    "    print('Answer:', df_All_data.iloc[max_similarity]['Answer'])"
   ]
  },
  {
   "cell_type": "code",
   "execution_count": 200,
   "id": "b6f92ed3",
   "metadata": {},
   "outputs": [
    {
     "name": "stdout",
     "output_type": "stream",
     "text": [
      "Your question: Had to come in?\n",
      "Closest question found: Come again?\n",
      "Similarity: 100.00%\n",
      "Answer: I said a \"please\" would be nice.\n"
     ]
    }
   ],
   "source": [
    "ask_question('Had to come in?')"
   ]
  },
  {
   "cell_type": "code",
   "execution_count": 201,
   "id": "dd6ae794",
   "metadata": {},
   "outputs": [
    {
     "name": "stdout",
     "output_type": "stream",
     "text": [
      "Your question: Can you come?\n",
      "Closest question found: Come again?\n",
      "Similarity: 100.00%\n",
      "Answer: I said a \"please\" would be nice.\n"
     ]
    }
   ],
   "source": [
    "ask_question('Can you come?')"
   ]
  },
  {
   "cell_type": "code",
   "execution_count": 202,
   "id": "ed1af6f6",
   "metadata": {},
   "outputs": [
    {
     "name": "stdout",
     "output_type": "stream",
     "text": [
      "Your question: Where is your mother?\n",
      "Closest question found: My mother?\n",
      "Similarity: 100.00%\n",
      "Answer: She was very kind.\n"
     ]
    }
   ],
   "source": [
    "ask_question('Where is your mother?')"
   ]
  },
  {
   "cell_type": "code",
   "execution_count": 203,
   "id": "3aa28010",
   "metadata": {},
   "outputs": [
    {
     "name": "stdout",
     "output_type": "stream",
     "text": [
      "Your question: What's wrong with you ?\n",
      "Closest question found: What's wrong with her?\n",
      "Similarity: 100.00%\n",
      "Answer: She's ODing on us.\n"
     ]
    }
   ],
   "source": [
    "ask_question('What\\'s wrong with you ?')"
   ]
  },
  {
   "cell_type": "code",
   "execution_count": 204,
   "id": "476fabf7",
   "metadata": {},
   "outputs": [
    {
     "name": "stdout",
     "output_type": "stream",
     "text": [
      "Your question: Who is Praveen?\n",
      "Closest question found: When you go on like this, you know what you sound like?\n",
      "Similarity: 0.00%\n",
      "Answer: I sound like a sensible fucking man, is what I sound like.\n"
     ]
    }
   ],
   "source": [
    "ask_question('Who is Praveen?')"
   ]
  },
  {
   "cell_type": "code",
   "execution_count": null,
   "id": "e362e5bd",
   "metadata": {},
   "outputs": [],
   "source": [
    "# Issue of this is that the model doesn't seem to go through all the data set to learn but rather get's \n",
    "# the first similar answer and print it. You can test it by changing the data frame sequences when collating them\n",
    "# hence, this model needs modification\n"
   ]
  }
 ],
 "metadata": {
  "kernelspec": {
   "display_name": "Python 3",
   "language": "python",
   "name": "python3"
  },
  "language_info": {
   "codemirror_mode": {
    "name": "ipython",
    "version": 3
   },
   "file_extension": ".py",
   "mimetype": "text/x-python",
   "name": "python",
   "nbconvert_exporter": "python",
   "pygments_lexer": "ipython3",
   "version": "3.9.4"
  }
 },
 "nbformat": 4,
 "nbformat_minor": 5
}
